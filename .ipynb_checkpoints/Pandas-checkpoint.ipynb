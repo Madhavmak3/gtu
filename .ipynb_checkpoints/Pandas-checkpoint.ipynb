{
 "cells": [
  {
   "cell_type": "code",
   "execution_count": 3,
   "id": "d8dec33b",
   "metadata": {},
   "outputs": [
    {
     "data": {
      "text/plain": [
       "0    p\n",
       "1    r\n",
       "2    s\n",
       "3    q\n",
       "4    t\n",
       "dtype: object"
      ]
     },
     "execution_count": 3,
     "metadata": {},
     "output_type": "execute_result"
    }
   ],
   "source": [
    "import pandas as pd\n",
    "arr=['p','r','s','q','t']\n",
    "s1=pd.Series(arr)\n",
    "s1"
   ]
  },
  {
   "cell_type": "code",
   "execution_count": 5,
   "id": "621798eb",
   "metadata": {},
   "outputs": [
    {
     "data": {
      "text/plain": [
       "pandas.core.series.Series"
      ]
     },
     "execution_count": 5,
     "metadata": {},
     "output_type": "execute_result"
    }
   ],
   "source": [
    "type(s1)"
   ]
  },
  {
   "cell_type": "code",
   "execution_count": 7,
   "id": "72d4a930",
   "metadata": {},
   "outputs": [
    {
     "data": {
      "text/plain": [
       "('p', 'r')"
      ]
     },
     "execution_count": 7,
     "metadata": {},
     "output_type": "execute_result"
    }
   ],
   "source": [
    "s1[0],s1[1]"
   ]
  },
  {
   "cell_type": "code",
   "execution_count": 11,
   "id": "ec1e5375",
   "metadata": {},
   "outputs": [
    {
     "data": {
      "text/plain": [
       "1    p\n",
       "2    r\n",
       "3    s\n",
       "3    q\n",
       "3    t\n",
       "dtype: object"
      ]
     },
     "execution_count": 11,
     "metadata": {},
     "output_type": "execute_result"
    }
   ],
   "source": [
    "order=[1,2,3,3,3]\n",
    "s2=pd.Series(arr,index=order)\n",
    "s2"
   ]
  },
  {
   "cell_type": "code",
   "execution_count": 12,
   "id": "ed62190f",
   "metadata": {},
   "outputs": [
    {
     "data": {
      "text/plain": [
       "3    s\n",
       "3    q\n",
       "3    t\n",
       "dtype: object"
      ]
     },
     "execution_count": 12,
     "metadata": {},
     "output_type": "execute_result"
    }
   ],
   "source": [
    "s2[3]"
   ]
  },
  {
   "cell_type": "code",
   "execution_count": 16,
   "id": "b44e11d7",
   "metadata": {},
   "outputs": [
    {
     "data": {
      "text/plain": [
       "Akshit     p\n",
       "Madhav     r\n",
       "Kedar      s\n",
       "Ajay       q\n",
       "Vaibhav    t\n",
       "dtype: object"
      ]
     },
     "execution_count": 16,
     "metadata": {},
     "output_type": "execute_result"
    }
   ],
   "source": [
    "names = [\"Akshit\" , \"Madhav\", \"Kedar\" ,\"Ajay\" ,\"Vaibhav\"]\n",
    "s3=pd.Series(arr , index = names)\n",
    "s3"
   ]
  },
  {
   "cell_type": "code",
   "execution_count": 18,
   "id": "e70c5ed2",
   "metadata": {},
   "outputs": [
    {
     "data": {
      "text/plain": [
       "p     Akshit\n",
       "r     Madhav\n",
       "s      Kedar\n",
       "q       Ajay\n",
       "t    Vaibhav\n",
       "dtype: object"
      ]
     },
     "execution_count": 18,
     "metadata": {},
     "output_type": "execute_result"
    }
   ],
   "source": [
    "\n",
    "s3=pd.Series([\"Akshit\" , \"Madhav\", \"Kedar\" ,\"Ajay\" ,\"Vaibhav\"] , index =['p','r','s','q','t'])\n",
    "s3"
   ]
  },
  {
   "cell_type": "code",
   "execution_count": 20,
   "id": "92ed15d5",
   "metadata": {},
   "outputs": [
    {
     "data": {
      "text/plain": [
       "'Akshit'"
      ]
     },
     "execution_count": 20,
     "metadata": {},
     "output_type": "execute_result"
    }
   ],
   "source": [
    "s3[\"p\"]"
   ]
  },
  {
   "cell_type": "code",
   "execution_count": 22,
   "id": "66509e7b",
   "metadata": {},
   "outputs": [
    {
     "data": {
      "text/plain": [
       "p    Akshit\n",
       "r    Madhav\n",
       "s     Kedar\n",
       "dtype: object"
      ]
     },
     "execution_count": 22,
     "metadata": {},
     "output_type": "execute_result"
    }
   ],
   "source": [
    "s3[\"p\":\"s\"]"
   ]
  },
  {
   "cell_type": "code",
   "execution_count": 25,
   "id": "6862f37c",
   "metadata": {},
   "outputs": [
    {
     "data": {
      "text/plain": [
       "0     Akshit\n",
       "1     Madhav\n",
       "2      Kedar\n",
       "3       Ajay\n",
       "4    Vaibhav\n",
       "dtype: object"
      ]
     },
     "execution_count": 25,
     "metadata": {},
     "output_type": "execute_result"
    }
   ],
   "source": [
    "names = [\"Akshit\" , \"Madhav\", \"Kedar\" ,\"Ajay\" ,\"Vaibhav\"]\n",
    "s4=pd.Series(names)\n",
    "s4"
   ]
  },
  {
   "cell_type": "code",
   "execution_count": 26,
   "id": "0a2d663b",
   "metadata": {},
   "outputs": [
    {
     "data": {
      "text/plain": [
       "0    Akshit\n",
       "1    Madhav\n",
       "2     Kedar\n",
       "dtype: object"
      ]
     },
     "execution_count": 26,
     "metadata": {},
     "output_type": "execute_result"
    }
   ],
   "source": [
    "s4[0:3]"
   ]
  },
  {
   "cell_type": "code",
   "execution_count": 28,
   "id": "4104808e",
   "metadata": {},
   "outputs": [
    {
     "data": {
      "text/plain": [
       "RangeIndex(start=0, stop=5, step=1)"
      ]
     },
     "execution_count": 28,
     "metadata": {},
     "output_type": "execute_result"
    }
   ],
   "source": [
    "s3.index"
   ]
  },
  {
   "cell_type": "code",
   "execution_count": 29,
   "id": "d4121c28",
   "metadata": {},
   "outputs": [
    {
     "data": {
      "text/plain": [
       "RangeIndex(start=0, stop=5, step=1)"
      ]
     },
     "execution_count": 29,
     "metadata": {},
     "output_type": "execute_result"
    }
   ],
   "source": [
    "s4.index"
   ]
  },
  {
   "cell_type": "code",
   "execution_count": 33,
   "id": "98d52d1b",
   "metadata": {},
   "outputs": [
    {
     "data": {
      "text/plain": [
       "1    Madhav\n",
       "dtype: object"
      ]
     },
     "execution_count": 33,
     "metadata": {},
     "output_type": "execute_result"
    }
   ],
   "source": [
    "s3[s3==\"Madhav\"]"
   ]
  },
  {
   "cell_type": "code",
   "execution_count": 39,
   "id": "0b3c5e48",
   "metadata": {},
   "outputs": [
    {
     "data": {
      "text/plain": [
       "0     True\n",
       "1    False\n",
       "2    False\n",
       "3    False\n",
       "4    False\n",
       "dtype: bool"
      ]
     },
     "execution_count": 39,
     "metadata": {},
     "output_type": "execute_result"
    }
   ],
   "source": [
    "s3==\"Akshit\""
   ]
  },
  {
   "cell_type": "code",
   "execution_count": 40,
   "id": "f63a1f91",
   "metadata": {},
   "outputs": [
    {
     "data": {
      "text/plain": [
       "a    1\n",
       "b    2\n",
       "c    3\n",
       "d    4\n",
       "e    5\n",
       "dtype: int64"
      ]
     },
     "execution_count": 40,
     "metadata": {},
     "output_type": "execute_result"
    }
   ],
   "source": [
    "d={'a':1,'b':2,'c':3,'d':4,'e':5}\n",
    "s3=pd.Series(d)\n",
    "s3"
   ]
  },
  {
   "cell_type": "code",
   "execution_count": 41,
   "id": "f4c9d2c4",
   "metadata": {},
   "outputs": [
    {
     "data": {
      "text/plain": [
       "0    p\n",
       "1    r\n",
       "2    s\n",
       "3    q\n",
       "4    t\n",
       "dtype: object"
      ]
     },
     "execution_count": 41,
     "metadata": {},
     "output_type": "execute_result"
    }
   ],
   "source": [
    "s1"
   ]
  },
  {
   "cell_type": "code",
   "execution_count": 44,
   "id": "ce42cc6a",
   "metadata": {},
   "outputs": [
    {
     "name": "stderr",
     "output_type": "stream",
     "text": [
      "C:\\Users\\madha\\AppData\\Local\\Temp\\ipykernel_6636\\2562205657.py:1: FutureWarning: The series.append method is deprecated and will be removed from pandas in a future version. Use pandas.concat instead.\n",
      "  s4=s1.append(s2)\n"
     ]
    },
    {
     "data": {
      "text/plain": [
       "0    p\n",
       "1    r\n",
       "2    s\n",
       "3    q\n",
       "4    t\n",
       "1    p\n",
       "2    r\n",
       "3    s\n",
       "3    q\n",
       "3    t\n",
       "dtype: object"
      ]
     },
     "execution_count": 44,
     "metadata": {},
     "output_type": "execute_result"
    }
   ],
   "source": [
    "s4=s1.append(s2)\n",
    "s4"
   ]
  },
  {
   "cell_type": "code",
   "execution_count": 45,
   "id": "c20c3b9f",
   "metadata": {},
   "outputs": [
    {
     "data": {
      "text/plain": [
       "india    100\n",
       "nepal     20\n",
       "china     10\n",
       "japan    150\n",
       "korea     60\n",
       "dtype: int64"
      ]
     },
     "execution_count": 45,
     "metadata": {},
     "output_type": "execute_result"
    }
   ],
   "source": [
    "ser1=pd.Series([100,20,10,150,60],index=[\"india\",\"nepal\",\"china\",\"japan\",\"korea\",])\n",
    "ser2=pd.Series([100,20,10,150,60],index=[\"india\",\"nepal\",\"china\",\"japan\",\"korea\",])\n",
    "ser1"
   ]
  },
  {
   "cell_type": "code",
   "execution_count": null,
   "id": "096d4501",
   "metadata": {},
   "outputs": [],
   "source": []
  }
 ],
 "metadata": {
  "kernelspec": {
   "display_name": "Python 3 (ipykernel)",
   "language": "python",
   "name": "python3"
  },
  "language_info": {
   "codemirror_mode": {
    "name": "ipython",
    "version": 3
   },
   "file_extension": ".py",
   "mimetype": "text/x-python",
   "name": "python",
   "nbconvert_exporter": "python",
   "pygments_lexer": "ipython3",
   "version": "3.9.13"
  }
 },
 "nbformat": 4,
 "nbformat_minor": 5
}
