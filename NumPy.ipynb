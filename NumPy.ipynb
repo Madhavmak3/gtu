{
 "cells": [
  {
   "cell_type": "code",
   "execution_count": 2,
   "id": "6f4f891f",
   "metadata": {},
   "outputs": [
    {
     "name": "stdout",
     "output_type": "stream",
     "text": [
      "Requirement already satisfied: numpy in d:\\software\\anaconda3\\lib\\site-packages (1.21.5)\n",
      "Note: you may need to restart the kernel to use updated packages.\n"
     ]
    }
   ],
   "source": [
    "pip install numpy"
   ]
  },
  {
   "cell_type": "code",
   "execution_count": 3,
   "id": "7fddd7c8",
   "metadata": {},
   "outputs": [],
   "source": [
    "import  numpy as np"
   ]
  },
  {
   "cell_type": "code",
   "execution_count": 9,
   "id": "99848493",
   "metadata": {},
   "outputs": [
    {
     "data": {
      "text/plain": [
       "array([list([1, 2, 3, 4]), list([5, 6, 7])], dtype=object)"
      ]
     },
     "execution_count": 9,
     "metadata": {},
     "output_type": "execute_result"
    }
   ],
   "source": [
    "arr = np.array([[1,2,3,4],[5,6,7]],dtype=object)\n",
    "arr"
   ]
  },
  {
   "cell_type": "code",
   "execution_count": 16,
   "id": "097479ea",
   "metadata": {},
   "outputs": [
    {
     "name": "stdout",
     "output_type": "stream",
     "text": [
      "0.4542748475221734\n"
     ]
    }
   ],
   "source": [
    "from numpy import random\n",
    "x=random.rand()\n",
    "print(x)"
   ]
  },
  {
   "cell_type": "code",
   "execution_count": 18,
   "id": "48ed8324",
   "metadata": {},
   "outputs": [
    {
     "name": "stdout",
     "output_type": "stream",
     "text": [
      "76\n"
     ]
    }
   ],
   "source": [
    "x=random.randint(111)\n",
    "print(x)"
   ]
  },
  {
   "cell_type": "code",
   "execution_count": 23,
   "id": "dd09d7dc",
   "metadata": {},
   "outputs": [
    {
     "name": "stdout",
     "output_type": "stream",
     "text": [
      "[97 21 75]\n"
     ]
    }
   ],
   "source": [
    "x=random.randint(100,size=(3))\n",
    "print(x)"
   ]
  },
  {
   "cell_type": "code",
   "execution_count": 24,
   "id": "669353c6",
   "metadata": {},
   "outputs": [
    {
     "name": "stdout",
     "output_type": "stream",
     "text": [
      "[[13 37 25 24  0]\n",
      " [23 71  8 63 24]\n",
      " [17 24  7 91 70]]\n"
     ]
    }
   ],
   "source": [
    "x=random.randint(100,size=(3,5))\n",
    "print(x)"
   ]
  },
  {
   "cell_type": "code",
   "execution_count": 27,
   "id": "fa11379b",
   "metadata": {},
   "outputs": [
    {
     "name": "stdout",
     "output_type": "stream",
     "text": [
      "input array is [8]\n",
      "output scalar from input array 8\n"
     ]
    }
   ],
   "source": [
    "in_arr=np.array([8])\n",
    "print(\"input array is\",in_arr)\n",
    "out_scalar= in_arr.item()\n",
    "print(\"output scalar from input array\",out_scalar)"
   ]
  },
  {
   "cell_type": "code",
   "execution_count": 39,
   "id": "000742ce",
   "metadata": {},
   "outputs": [
    {
     "name": "stdout",
     "output_type": "stream",
     "text": [
      "vertical vector\n",
      "[1 2 3]\n",
      "[[10]\n",
      " [20]\n",
      " [30]]\n"
     ]
    }
   ],
   "source": [
    "list1=[1,2,3]\n",
    "list2=[[10],[20],[30]]\n",
    "vector1=np.array(list1)\n",
    "vector2=np.array(list2)\n",
    "print(vector1)\n",
    "print(vector2)"
   ]
  },
  {
   "cell_type": "code",
   "execution_count": 53,
   "id": "58aebb82",
   "metadata": {},
   "outputs": [
    {
     "name": "stdout",
     "output_type": "stream",
     "text": [
      "via string input: \n",
      " [[1 2]\n",
      " [3 4]] \n",
      "\n",
      "via array-like input :\n",
      " [[5 6 7]\n",
      " [4 6 8]]\n"
     ]
    }
   ],
   "source": [
    "a=np.matrix('1 2;3 4')\n",
    "print(\"via string input: \\n\" , a, \"\\n\")\n",
    "b=np.matrix([[5,6,7] , [4,6,8]],dtype=object)\n",
    "print(\"via array-like input :\\n\",b)"
   ]
  },
  {
   "cell_type": "code",
   "execution_count": 73,
   "id": "9a08d87b",
   "metadata": {},
   "outputs": [
    {
     "name": "stdout",
     "output_type": "stream",
     "text": [
      "[[43 63]\n",
      " [ 9 16]]\n"
     ]
    }
   ],
   "source": [
    "A=[[6,7],\n",
    "  [1,3]]\n",
    "\n",
    "B=[[6,7],\n",
    "  [1,3]]\n",
    "print(np.dot(A,B))"
   ]
  },
  {
   "cell_type": "code",
   "execution_count": 77,
   "id": "624c2767",
   "metadata": {},
   "outputs": [
    {
     "name": "stdout",
     "output_type": "stream",
     "text": [
      "[[   -1    23    78]\n",
      " [   98    60    75]\n",
      " [   79    25 10000]]\n",
      "-1\n",
      "10000\n"
     ]
    }
   ],
   "source": [
    "arr = np.array([[-1,23,78],[98,60,75],[79,25,10000]])\n",
    "print(arr)\n",
    "\n",
    "print(np.amin(arr))\n",
    "print(np.amax(arr))"
   ]
  },
  {
   "cell_type": "code",
   "execution_count": 81,
   "id": "000f10dd",
   "metadata": {},
   "outputs": [
    {
     "name": "stdout",
     "output_type": "stream",
     "text": [
      "[9 6 7]\n",
      "mean of array a= 7.333333333333333\n",
      "median of array a = 7.0\n",
      "standard deviation of array a= 1.247219128924647\n",
      "Variance of array a= 1.5555555555555554\n"
     ]
    }
   ],
   "source": [
    "a=np.array([9,6,7])\n",
    "print(a)\n",
    "print(\"mean of array a=\",np.mean(a))\n",
    "print(\"median of array a =\",np.median(a))\n",
    "print(\"standard deviation of array a=\",np.std(a))\n",
    "print(\"Variance of array a=\",np.var(a))"
   ]
  },
  {
   "cell_type": "code",
   "execution_count": 93,
   "id": "421bcffa",
   "metadata": {},
   "outputs": [
    {
     "name": "stdout",
     "output_type": "stream",
     "text": [
      "134.0\n",
      "55.0\n",
      "79.0\n"
     ]
    }
   ],
   "source": [
    "data=[32,324,35,45,223,5,425,245,435,6,254,634,64,36,46,34,654,6,34,643,67,68763,45,46]\n",
    "Q1=np.median(data[:10])\n",
    "Q2=np.median(data[10:])\n",
    "print(Q1)\n",
    "print(Q2)\n",
    "\n",
    "IQR = Q1-Q2\n",
    "print(IQR)"
   ]
  },
  {
   "cell_type": "code",
   "execution_count": 99,
   "id": "2e9e9a4c",
   "metadata": {},
   "outputs": [
    {
     "name": "stdout",
     "output_type": "stream",
     "text": [
      "[10.6 15.  15.  30. ]\n"
     ]
    }
   ],
   "source": [
    "a=np.array([2.12,3,5,5])\n",
    "b=np.array([5,5,3,6])\n",
    "c=a*b\n",
    "print(c)"
   ]
  }
 ],
 "metadata": {
  "kernelspec": {
   "display_name": "Python 3 (ipykernel)",
   "language": "python",
   "name": "python3"
  },
  "language_info": {
   "codemirror_mode": {
    "name": "ipython",
    "version": 3
   },
   "file_extension": ".py",
   "mimetype": "text/x-python",
   "name": "python",
   "nbconvert_exporter": "python",
   "pygments_lexer": "ipython3",
   "version": "3.9.13"
  }
 },
 "nbformat": 4,
 "nbformat_minor": 5
}
